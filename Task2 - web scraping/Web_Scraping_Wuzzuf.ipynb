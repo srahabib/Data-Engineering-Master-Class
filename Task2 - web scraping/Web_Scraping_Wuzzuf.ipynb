{
 "cells": [
  {
   "cell_type": "code",
   "execution_count": 42,
   "metadata": {},
   "outputs": [],
   "source": [
    "from bs4 import BeautifulSoup\n",
    "import requests"
   ]
  },
  {
   "cell_type": "code",
   "execution_count": 43,
   "metadata": {},
   "outputs": [],
   "source": [
    "html_text = requests.get('https://wuzzuf.net/search/jobs/?q=machine+learning&a=navbg').text"
   ]
  },
  {
   "cell_type": "code",
   "execution_count": 44,
   "metadata": {},
   "outputs": [],
   "source": [
    "soup = BeautifulSoup(html_text,\"lxml\")"
   ]
  },
  {
   "cell_type": "code",
   "execution_count": 45,
   "metadata": {},
   "outputs": [],
   "source": [
    "job = soup.find('div', class_= 'css-1gatmva e1v1l3u10')"
   ]
  },
  {
   "cell_type": "code",
   "execution_count": 46,
   "metadata": {},
   "outputs": [
    {
     "name": "stdout",
     "output_type": "stream",
     "text": [
      "412labs.com \n"
     ]
    }
   ],
   "source": [
    "company_name = job.find('a','css-17s97q8').text.replace(\" -\",\" \")\n",
    "print(company_name)"
   ]
  },
  {
   "cell_type": "code",
   "execution_count": 47,
   "metadata": {},
   "outputs": [
    {
     "name": "stdout",
     "output_type": "stream",
     "text": [
      "[<a class=\"css-o171kl\" href=\"/jobs/p/iechGl4TG6q8-Applied-Machine-Learning-Engineer-Computer-Vision-Scientist-412labs-com-Cairo-Egypt?o=1&amp;l=sp&amp;t=sj&amp;a=machine learning|search-v3|navbg\" rel=\"noreferrer\" target=\"_blank\">Applied Machine Learning Engineer / Computer Vision Scientist</a>, <a class=\"css-o171kl\" href=\"/a/Experienced-Jobs-in-Egypt\">Experienced</a>, <a class=\"css-o171kl\" href=\"/a/IT-Software-Development-Jobs-in-Egypt\"> <!-- -->· <!-- -->IT/Software Development</a>]\n"
     ]
    }
   ],
   "source": [
    "skills = job.find_all('a',class_='css-o171kl')\n",
    "print(skills)\n",
    "#didn't work"
   ]
  },
  {
   "cell_type": "code",
   "execution_count": 48,
   "metadata": {},
   "outputs": [
    {
     "name": "stdout",
     "output_type": "stream",
     "text": [
      "FullTimeFreelance/ProjectWorkFromHomeExperienced·4+YrsofExp·IT/SoftwareDevelopment·ComputerVision·InformationTechnology(IT)·DeepLearning·Python·Research·MachineLearning·OpenCV·TensorFlow·Keras\n"
     ]
    }
   ],
   "source": [
    "info =job.find('div',class_='css-y4udm8').text.replace(\" \",\"\")\n",
    "print(info)"
   ]
  },
  {
   "cell_type": "code",
   "execution_count": 49,
   "metadata": {},
   "outputs": [
    {
     "name": "stdout",
     "output_type": "stream",
     "text": [
      "3 days ago\n"
     ]
    }
   ],
   "source": [
    "published_date = job.find(\"div\",\"css-4c4ojb\").text\n",
    "print(published_date)"
   ]
  },
  {
   "cell_type": "code",
   "execution_count": 50,
   "metadata": {},
   "outputs": [
    {
     "name": "stdout",
     "output_type": "stream",
     "text": [
      "3 days ago\n"
     ]
    }
   ],
   "source": [
    "published_date_old = job.find(\"div\",\"css-do6t5g\")\n",
    "print(published_date)"
   ]
  },
  {
   "cell_type": "code",
   "execution_count": 51,
   "metadata": {},
   "outputs": [
    {
     "name": "stdout",
     "output_type": "stream",
     "text": [
      "/jobs/p/iechGl4TG6q8-Applied-Machine-Learning-Engineer-Computer-Vision-Scientist-412labs-com-Cairo-Egypt?o=1&l=sp&t=sj&a=machine learning|search-v3|navbg\n"
     ]
    }
   ],
   "source": [
    "link = job.h2.a['href']\n",
    "print(link)"
   ]
  },
  {
   "cell_type": "code",
   "execution_count": 52,
   "metadata": {},
   "outputs": [],
   "source": [
    "filename = \"jobs.txt\"\n",
    "f = open(filename , 'w')"
   ]
  },
  {
   "cell_type": "code",
   "execution_count": 53,
   "metadata": {},
   "outputs": [
    {
     "name": "stdout",
     "output_type": "stream",
     "text": [
      "\n",
      "        Company Name: 412labs.com \n",
      "        Job Info: FullTimeFreelance/ProjectWorkFromHomeExperienced·4+YrsofExp·IT/SoftwareDevelopment·ComputerVision·InformationTechnology(IT)·DeepLearning·Python·Research·MachineLearning·OpenCV·TensorFlow·Keras\n",
      "        Publish Date: 3 days ago\n",
      "        Link: https://wuzzuf.net/jobs/p/iechGl4TG6q8-Applied-Machine-Learning-Engineer-Computer-Vision-Scientist-412labs-com-Cairo-Egypt?o=1&l=sp&t=sj&a=machine \n",
      "        \n",
      "\n",
      "        Company Name: Confidential \n",
      "        Job Info: FullTimeExperienced·3+YrsofExp·IT/SoftwareDevelopment·Analyst/Research·Engineering-Telecom/Technology·ComputerScience·DataScience·InformationTechnology(IT)·Java·Statistics·ComputerEngineering·MachineLearning\n",
      "        Publish Date: 26 days ago\n",
      "        Link: https://wuzzuf.net/jobs/p/MpWiYLQDRxev-Machine-Learning-Engineer-Cairo-Egypt?o=2&l=sp&t=sj&a=machine \n",
      "        \n",
      "\n",
      "        Company Name: Botit \n",
      "        Job Info: FullTimeExperienced·3-8YrsofExp·R&D/Science·IT/SoftwareDevelopment·Engineering-Telecom/Technology·MachineLearning·Python·NLP·Engineering·SoftwareEngineering·Mathematics·ComputerScience\n",
      "        Publish Date: 1 month ago\n",
      "        Link: https://wuzzuf.net/jobs/p/JXSY9jxadJPU-Senior-Machine-Learning-Engineer-NLP-Botit-Cairo-Egypt?o=3&l=sp&t=sj&a=machine \n",
      "        \n",
      "\n",
      "        Company Name: Digified \n",
      "        Job Info: FullTimeExperienced·2-4YrsofExp·IT/SoftwareDevelopment·Engineering-Telecom/Technology·DeepLearning·MachineLearning·OpenCV·Python·NLP·Git·Docker·InformationTechnology(IT)\n",
      "        Publish Date: 1 month ago\n",
      "        Link: https://wuzzuf.net/jobs/p/eIGXspc9U1ns-Machine-Learning-Engineer-Digified-Cairo-Egypt?o=4&l=sp&t=sj&a=machine \n",
      "        \n",
      "\n",
      "        Company Name: Lun Development \n",
      "        Job Info: FullTimeExperienced·2+YrsofExp·IT/SoftwareDevelopment·Analyst/Research·Engineering-Telecom/Technology·ComputerScience·Data·datascientist·InformationTechnology(IT)·Machine·MachineLearning·Python\n",
      "        Publish Date: 2 months ago\n",
      "        Link: https://wuzzuf.net/jobs/p/zqkSUHAw72qG-Data-Scientist-Machine-Learning-Engineer-Lun-Development-Cairo-Egypt?o=5&l=sp&t=sj&a=machine \n",
      "        \n",
      "\n",
      "        Company Name: RDI \n",
      "        Job Info: FullTimeExperienced·3+YrsofExp·IT/SoftwareDevelopment·Engineering-Telecom/Technology·Java·SpringFramework·JavaEE·SoftwareDevelopment·SoftwareEngineering·ComputerScience·OOD·Cloud\n",
      "        Publish Date: 13 days ago\n",
      "        Link: https://wuzzuf.net/jobs/p/1CHLRY9EXWYY-Senior-Full-Stack-Java-Developer-RDI-Giza-Egypt?o=6&l=sp&t=sj&a=machine \n",
      "        \n",
      "\n",
      "        Company Name: EpsilonAI \n",
      "        Job Info: FullTimePartTimeEntryLevel·1+YrsofExp·IT/SoftwareDevelopment·Engineering-Telecom/Technology·Training/Instructor·DataScience·ComputerScience·ComputerEngineering·Python·MachineLearning·DeepLearning·ArtificialIntelligence(AI)\n",
      "        Publish Date: 19 days ago\n",
      "        Link: https://wuzzuf.net/jobs/p/lti4vVhRvuKO-Data-Science-Instructor-EpsilonAI-Cairo-Egypt?o=7&l=sp&t=sj&a=machine \n",
      "        \n",
      "\n",
      "        Company Name: skora tech \n",
      "        Job Info: FullTimeWorkFromHomeExperienced·2-5YrsofExp·IT/SoftwareDevelopment·Engineering-Telecom/Technology·Python·ComputerScience·MySQL·SoftwareDevelopment·SoftwareEngineering·Docker·Java·AWS\n",
      "        Publish Date: 27 days ago\n",
      "        Link: https://wuzzuf.net/jobs/p/YRn93DcSmz8G-Mid-Senior-Level-Back-End-Software-Developer-Remote-skora-tech-Doha-Qatar?o=8&l=sp&t=sj&a=machine \n",
      "        \n",
      "\n",
      "        Company Name: JRM for Communications \n",
      "        Job Info: FullTimeExperienced·2-3YrsofExp·IT/SoftwareDevelopment·Engineering-Telecom/Technology·Angular·ComputerScience·Full-Stack·InformationTechnology(IT)·Python·React·Software·SoftwareDevelopment\n",
      "        Publish Date: 1 month ago\n",
      "        Link: https://wuzzuf.net/jobs/p/ITaezijn1yin-Full-Stack-Software-Engineer-Python---React-JRM-for-Communications-Cairo-Egypt?o=9&l=sp&t=sj&a=machine \n",
      "        \n",
      "\n",
      "        Company Name: BlinkApp \n",
      "        Job Info: FullTimeExperienced·3-5YrsofExp·IT/SoftwareDevelopment·Analyst/Research·Engineering-Telecom/Technology·ComputerScience·DataScience·InformationTechnology(IT)·MachineLearning·MongoDB·NaiveBayes·NLP\n",
      "        Publish Date: 1 month ago\n",
      "        Link: https://wuzzuf.net/jobs/p/ceaHXZ09uClv-Data-Scientist-BlinkApp-Cairo-Egypt?o=10&l=sp&t=sj&a=machine \n",
      "        \n",
      "\n",
      "        Company Name: Confidential \n",
      "        Job Info: FullTimeExperienced·3-5YrsofExp·IT/SoftwareDevelopment·Analyst/Research·Engineering-Telecom/Technology·ComputerScience·Data·DataScience·Engineering·MachineLearning·SQL·Statistics\n",
      "        Publish Date: 1 month ago\n",
      "        Link: https://wuzzuf.net/jobs/p/yi8XAGgKDmnN-Data-Scientist-Cairo-Egypt?o=11&l=sp&t=sj&a=machine \n",
      "        \n",
      "\n",
      "        Company Name: Paxerahealth Corp \n",
      "        Job Info: FullTimeExperienced·2-3YrsofExp·IT/SoftwareDevelopment·Medical/Healthcare·Engineering-Telecom/Technology·AI·computer·ComputerScience·Theano·TensorFlow·DataScience·Engineering\n",
      "        Publish Date: 1 month ago\n",
      "        Link: https://wuzzuf.net/jobs/p/ElsnpulQ86Bd-Senior-AI-Engineer-Paxerahealth-Corp-Giza-Egypt?o=12&l=sp&t=sj&a=machine \n",
      "        \n",
      "\n",
      "        Company Name: Digified \n",
      "        Job Info: FullTimeExperienced·5-7YrsofExp·IT/SoftwareDevelopment·Engineering-Telecom/Technology·Android·APIs·Kotlin·Programming·SOAP·REST·Java·SDK\n",
      "        Publish Date: 1 month ago\n",
      "        Link: https://wuzzuf.net/jobs/p/fcjT3tYe4ZUt-Senior-Android-Developer-Digified-Cairo-Egypt?o=13&l=sp&t=sj&a=machine \n",
      "        \n",
      "\n",
      "        Company Name: Fawry Banking & Payment Technology Services \n",
      "        Job Info: FullTimeManager·5+YrsofExp·IT/SoftwareDevelopment·Engineering-Telecom/Technology·InformationTechnology(IT)·MachineLearning·ComputerEngineering·ComputerScience·Algorithms\n",
      "        Publish Date: 1 month ago\n",
      "        Link: https://wuzzuf.net/jobs/p/XIRK0HBcXhXC-Team-Lead-Data-Scientist-Fawry-Banking-Payment-Technology-Services-Giza-Egypt?o=14&l=sp&t=sj&a=machine \n",
      "        \n",
      "\n",
      "        Company Name: Confidential \n",
      "        Job Info: FullTimeExperienced·2+YrsofExp·IT/SoftwareDevelopment·Engineering-Telecom/Technology·ComputerScience·datascientist·Mathematics·MachineLearning·SQL·Python·NoSQL·Tableau\n",
      "        Publish Date: 1 month ago\n",
      "        Link: https://wuzzuf.net/jobs/p/LctVzPWf7zoH-Sr-Data-Scientist---NLP-Video-analytics-Cairo-Egypt?o=15&l=sp&t=sj&a=machine \n",
      "        \n"
     ]
    }
   ],
   "source": [
    "filename = \"jobs.txt\"\n",
    "\n",
    "f = open(filename , 'w')\n",
    "jobs = soup.find_all('div', class_= 'css-1gatmva e1v1l3u10')\n",
    "for job in jobs:\n",
    "    link = job.div.h2.a['href'].replace(\"learning|search-v3|navbg\",\"\")\n",
    "    older_post = job.find(\"div\",\"css-do6t5g\")\n",
    "    recent_post = job.find(\"div\",\"css-4c4ojb\")\n",
    "    company_name = job.find('a','css-17s97q8').text.replace(\" -\",\" \")\n",
    "    info =job.find('div',class_='css-y4udm8').text.replace(\" \",\"\")\n",
    "    \n",
    "    if (older_post is None):\n",
    "        post = job.find(\"div\",\"css-4c4ojb\").text\n",
    "        print(f'''\n",
    "        Company Name: {company_name}\n",
    "        Job Info: {info}\n",
    "        Publish Date: {post}\n",
    "        Link: https://wuzzuf.net{link}\n",
    "        ''')\n",
    "    \n",
    "    elif (recent_post is None):\n",
    "        post = job.find(\"div\",\"css-do6t5g\").text\n",
    "        print(f'''\n",
    "        Company Name: {company_name}\n",
    "        Job Info: {info}\n",
    "        Publish Date: {post}\n",
    "        Link: https://wuzzuf.net{link}\n",
    "        ''')\n",
    "    f.write(\"Company Name: \"+company_name+\"\\n\" \n",
    "            \"Job Info: \"+info+\"\\n\" \n",
    "            \"Publish Date: \"+post+\"\\n\" \n",
    "            \"Link: \"+\"https://wuzzuf.net\"\n",
    "            +link+\"\\n\")"
   ]
  },
  {
   "cell_type": "code",
   "execution_count": 54,
   "metadata": {},
   "outputs": [],
   "source": [
    "f.close()"
   ]
  }
 ],
 "metadata": {
  "kernelspec": {
   "display_name": "Python 3 (ipykernel)",
   "language": "python",
   "name": "python3"
  },
  "language_info": {
   "codemirror_mode": {
    "name": "ipython",
    "version": 3
   },
   "file_extension": ".py",
   "mimetype": "text/x-python",
   "name": "python",
   "nbconvert_exporter": "python",
   "pygments_lexer": "ipython3",
   "version": "3.8.12"
  }
 },
 "nbformat": 4,
 "nbformat_minor": 4
}
